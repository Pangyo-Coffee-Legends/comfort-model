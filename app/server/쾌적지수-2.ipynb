{
 "cells": [
  {
   "cell_type": "code",
   "execution_count": 15,
   "id": "06ebac69",
   "metadata": {},
   "outputs": [],
   "source": [
    "import pandas as pd\n",
    "import numpy as np\n",
    "import seaborn as sns\n",
    "import matplotlib.pyplot as plt\n",
    "import matplotlib.font_manager as fm\n",
    "import matplotlib as mpl\n",
    "from influxdb_client import InfluxDBClient\n",
    "from sklearn.experimental import enable_iterative_imputer\n",
    "from sklearn.impute import IterativeImputer\n",
    "from sklearn.preprocessing import RobustScaler, LabelEncoder\n",
    "from sklearn.model_selection import train_test_split, cross_val_score\n",
    "from sklearn.ensemble import RandomForestClassifier\n",
    "from sklearn.metrics import classification_report, confusion_matrix\n",
    "import joblib"
   ]
  },
  {
   "cell_type": "code",
   "execution_count": 16,
   "id": "965fc52e",
   "metadata": {},
   "outputs": [],
   "source": [
    "# 1. 폰트 설정\n",
    "font_path = \"/System/Library/Fonts/Supplemental/AppleGothic.ttf\"\n",
    "fontprop = fm.FontProperties(fname=font_path)\n",
    "font_name = fontprop.get_name()\n",
    "mpl.rcParams['font.family'] = font_name\n",
    "mpl.rcParams['axes.unicode_minus'] = False\n",
    "sns.set_style(\"whitegrid\")\n",
    "plt.rcParams['font.family'] = font_name"
   ]
  },
  {
   "cell_type": "code",
   "execution_count": null,
   "id": "4177565e",
   "metadata": {},
   "outputs": [],
   "source": [
    "# 2. InfluxDB 연결 함수\n",
    "def get_influx_client():\n",
    "    INFLUX_URL   = \"https://influx.aiot2.live\"\n",
    "    INFLUX_TOKEN = \"RmaabELI9VpYPRu4nt_xBZX5l3Gv5lx8XnR4mVZnqep4Ya3eYrfpLUk4Y4dYE4J0mlcFHFPLUCKh8a4jq_lMNw==\"\n",
    "    INFLUX_ORG   = \"aiot2-team2-coffee\"\n",
    "    INFLUX_BUCKET= \"coffee-mqtt\"\n",
    "    client = InfluxDBClient(url=INFLUX_URL, token=INFLUX_TOKEN, org=INFLUX_ORG)\n",
    "    return client, INFLUX_BUCKET\n",
    "\n",
    "sensor_types = [\"temperature\", \"humidity\", \"co2\"]\n",
    "target_locations = [\"8인 책상\", \"왼쪽 뒤\", \"안쪽벽 중앙\", \"보드\"]\n",
    "\n",
    "client, INFLUX_BUCKET = get_influx_client()\n",
    "read_api = client.query_api()\n",
    "\n",
    "sensor_filter = ' or '.join([f'r[\"type\"] == \"{t}\"' for t in sensor_types])\n",
    "location_filter = ' or '.join([f'r[\"location\"] == \"{loc}\"' for loc in target_locations])\n",
    "\n",
    "flux = f'''\n",
    "from(bucket: \"{INFLUX_BUCKET}\")\n",
    "  |> range(start: -7d)\n",
    "  |> filter(fn: (r) => r[\"_measurement\"] == \"sensor\")\n",
    "  |> filter(fn: (r) => r[\"_field\"] == \"value\")\n",
    "  |> filter(fn: (r) => {sensor_filter})\n",
    "  |> filter(fn: (r) => {location_filter})\n",
    "  |> aggregateWindow(every: 5m, fn: mean, createEmpty: false)\n",
    "  |> yield(name: \"mean\")\n",
    "'''\n"
   ]
  },
  {
   "cell_type": "code",
   "execution_count": null,
   "id": "7a29cb5f",
   "metadata": {},
   "outputs": [
    {
     "name": "stderr",
     "output_type": "stream",
     "text": [
      "/opt/homebrew/anaconda3/lib/python3.12/site-packages/influxdb_client/client/warnings.py:31: MissingPivotFunction: The query doesn't contains the pivot() function.\n",
      "\n",
      "The result will not be shaped to optimal processing by pandas.DataFrame. Use the pivot() function by:\n",
      "\n",
      "    \n",
      "from(bucket: \"coffee-mqtt\")\n",
      "  |> range(start: -7d)\n",
      "  |> filter(fn: (r) => r[\"_measurement\"] == \"sensor\")\n",
      "  |> filter(fn: (r) => r[\"_field\"] == \"value\")\n",
      "  |> filter(fn: (r) => r[\"type\"] == \"temperature\" or r[\"type\"] == \"humidity\" or r[\"type\"] == \"co2\")\n",
      "  |> filter(fn: (r) => r[\"location\"] == \"8인 책상\" or r[\"location\"] == \"왼쪽 뒤\" or r[\"location\"] == \"안쪽벽 중앙\" or r[\"location\"] == \"보드\")\n",
      "  |> aggregateWindow(every: 5m, fn: mean, createEmpty: false)\n",
      "  |> yield(name: \"mean\")\n",
      " |> pivot(rowKey:[\"_time\"], columnKey: [\"_field\"], valueColumn: \"_value\")\n",
      "\n",
      "You can disable this warning by:\n",
      "    import warnings\n",
      "    from influxdb_client.client.warnings import MissingPivotFunction\n",
      "\n",
      "    warnings.simplefilter(\"ignore\", MissingPivotFunction)\n",
      "\n",
      "For more info see:\n",
      "    - https://docs.influxdata.com/resources/videos/pivots-in-flux/\n",
      "    - https://docs.influxdata.com/flux/latest/stdlib/universe/pivot/\n",
      "    - https://docs.influxdata.com/flux/latest/stdlib/influxdata/influxdb/schema/fieldsascols/\n",
      "\n",
      "  warnings.warn(message, MissingPivotFunction)\n"
     ]
    },
    {
     "name": "stdout",
     "output_type": "stream",
     "text": [
      "18300\n"
     ]
    }
   ],
   "source": [
    "df = read_api.query_data_frame(flux)\n",
    "df = pd.concat(df) if isinstance(df, list) else df\n",
    "\n",
    "# 정리 및 피벗\n",
    "df = df.reset_index().rename(columns={\"_time\": \"time\"}).set_index(\"time\")\n",
    "pivot_df = df.pivot_table(index=['time', 'location'], columns='type', values='_value').reset_index()\n",
    "pivot_df = pivot_df.sort_values(by='time')\n",
    "\n",
    "# 면적 매핑 및 파생 변수 추가\n",
    "location_area_map = {\"8인 책상\": 64.65, \"왼쪽 뒤\": 109.21, \"안쪽벽 중앙\": 25.13, \"보드\": 31.59}\n",
    "pivot_df['area'] = pivot_df['location'].map(location_area_map)\n",
    "pivot_df['co2_per_area'] = pivot_df['co2'] / pivot_df['area']\n",
    "\n",
    "# 결측치 처리\n",
    "imputer = IterativeImputer(random_state=42)\n",
    "pivot_df[['temperature', 'humidity', 'co2']] = imputer.fit_transform(pivot_df[['temperature', 'humidity', 'co2']])\n"
   ]
  },
  {
   "cell_type": "code",
   "execution_count": 25,
   "id": "b91d6667",
   "metadata": {},
   "outputs": [],
   "source": [
    "# ⛅ CEI 계산 함수들\n",
    "def temp_score(temp):\n",
    "    if 22 <= temp <= 24: return 100\n",
    "    elif 20 <= temp < 22 or 24 < temp <= 26: return 85\n",
    "    elif 18 <= temp < 20 or 26 < temp <= 28: return 65\n",
    "    else: return 40\n",
    "\n",
    "def humidity_score(humi):\n",
    "    if 40 <= humi <= 50: return 100\n",
    "    elif 30 <= humi < 40 or 50 < humi <= 60: return 85\n",
    "    elif 25 <= humi < 30 or 60 < humi <= 70: return 65\n",
    "    else: return 40\n",
    "\n",
    "def co2_score(co2):\n",
    "    if co2 <= 800: return 100\n",
    "    elif co2 <= 1000: return 85\n",
    "    elif co2 <= 1200: return 65\n",
    "    else: return max(40, 100 - np.log1p(co2 - 800) * 10)\n",
    "\n",
    "def compute_cei_v2(temp, humi, co2):\n",
    "    t, h, c = temp_score(temp), humidity_score(humi), co2_score(co2)\n",
    "    return 0.4 * t + 0.3 * h + 0.3 * c\n",
    "\n",
    "def cei_to_label(cei):\n",
    "    if cei >= 90: return \"😊 최적 쾌적\"\n",
    "    elif cei >= 70: return \"😐 보통 상태\"\n",
    "    elif cei >= 50: return \"⚠️ 주의 필요\"\n",
    "    else: return \"🥵 위험 구역\"\n"
   ]
  },
  {
   "cell_type": "code",
   "execution_count": 26,
   "id": "163e53c5",
   "metadata": {},
   "outputs": [
    {
     "name": "stdout",
     "output_type": "stream",
     "text": [
      "type  temperature  humidity        co2   CEI CEI_Label\n",
      "0           25.10    23.500  575.00000  76.0   😐 보통 상태\n",
      "1           23.50    37.500  609.06465  95.5   😊 최적 쾌적\n",
      "2           23.50    34.500  800.00000  95.5   😊 최적 쾌적\n",
      "3           25.10    23.700  583.00000  76.0   😐 보통 상태\n",
      "4           24.65    33.375  635.00000  89.5   😐 보통 상태\n"
     ]
    }
   ],
   "source": [
    "# 🧠 CEI 점수 및 라벨 적용\n",
    "pivot_df['CEI'] = pivot_df.apply(lambda x: compute_cei_v2(x['temperature'], x['humidity'], x['co2']), axis=1)\n",
    "pivot_df['CEI_Label'] = pivot_df['CEI'].apply(cei_to_label)\n",
    "\n",
    "# 결과 미리보기\n",
    "print(pivot_df[['temperature', 'humidity', 'co2', 'CEI', 'CEI_Label']].head())\n"
   ]
  },
  {
   "cell_type": "code",
   "execution_count": 27,
   "id": "82b17a18",
   "metadata": {},
   "outputs": [],
   "source": [
    "# 이동 평균 (시계열 기반 특성)\n",
    "pivot_df['temp_ma3'] = pivot_df.groupby('location')['temperature'].transform(lambda x: x.rolling(3, min_periods=1).mean())\n",
    "pivot_df['humi_ma3'] = pivot_df.groupby('location')['humidity'].transform(lambda x: x.rolling(3, min_periods=1).mean())\n",
    "pivot_df['co2_ma3']  = pivot_df.groupby('location')['co2'].transform(lambda x: x.rolling(3, min_periods=1).mean())\n"
   ]
  },
  {
   "cell_type": "code",
   "execution_count": 28,
   "id": "d1a6234d",
   "metadata": {},
   "outputs": [],
   "source": [
    "pivot_df['hour'] = pd.to_datetime(pivot_df['time']).dt.hour\n",
    "pivot_df['work_hour'] = pivot_df['hour'].apply(lambda h: 1 if 9 <= h <= 18 else 0)\n"
   ]
  },
  {
   "cell_type": "code",
   "execution_count": 29,
   "id": "b7f15d2c",
   "metadata": {},
   "outputs": [],
   "source": [
    "feature_cols = ['temperature', 'humidity', 'co2',\n",
    "                'temp_ma3', 'humi_ma3', 'co2_ma3',\n",
    "                'co2_per_area', 'work_hour']\n"
   ]
  },
  {
   "cell_type": "code",
   "execution_count": 30,
   "id": "df8acbba",
   "metadata": {},
   "outputs": [
    {
     "name": "stdout",
     "output_type": "stream",
     "text": [
      "\n",
      "📊 Classification Report:\n",
      "               precision    recall  f1-score   support\n",
      "\n",
      "     😊 최적 쾌적       1.00      1.00      1.00       829\n",
      "     😐 보통 상태       1.00      1.00      1.00       459\n",
      "\n",
      "    accuracy                           1.00      1288\n",
      "   macro avg       1.00      1.00      1.00      1288\n",
      "weighted avg       1.00      1.00      1.00      1288\n",
      "\n"
     ]
    },
    {
     "name": "stderr",
     "output_type": "stream",
     "text": [
      "/opt/homebrew/anaconda3/lib/python3.12/site-packages/seaborn/utils.py:61: UserWarning: Glyph 128522 (\\N{SMILING FACE WITH SMILING EYES}) missing from font(s) AppleGothic.\n",
      "  fig.canvas.draw()\n",
      "/opt/homebrew/anaconda3/lib/python3.12/site-packages/seaborn/utils.py:61: UserWarning: Glyph 128528 (\\N{NEUTRAL FACE}) missing from font(s) AppleGothic.\n",
      "  fig.canvas.draw()\n",
      "/opt/homebrew/anaconda3/lib/python3.12/site-packages/IPython/core/pylabtools.py:170: UserWarning: Glyph 128522 (\\N{SMILING FACE WITH SMILING EYES}) missing from font(s) AppleGothic.\n",
      "  fig.canvas.print_figure(bytes_io, **kw)\n",
      "/opt/homebrew/anaconda3/lib/python3.12/site-packages/IPython/core/pylabtools.py:170: UserWarning: Glyph 128528 (\\N{NEUTRAL FACE}) missing from font(s) AppleGothic.\n",
      "  fig.canvas.print_figure(bytes_io, **kw)\n"
     ]
    },
    {
     "data": {
      "image/png": "[encoded data removed]",
      "text/plain": [
       "<Figure size 600x400 with 2 Axes>"
      ]
     },
     "metadata": {},
     "output_type": "display_data"
    }
   ],
   "source": [
    "X = pivot_df[feature_cols]\n",
    "y = pivot_df['CEI_Label']\n",
    "\n",
    "# ✅ 3. 스케일링 + 라벨 인코딩\n",
    "scaler = RobustScaler()\n",
    "X_scaled = scaler.fit_transform(X)\n",
    "\n",
    "le = LabelEncoder()\n",
    "y_encoded = le.fit_transform(y)\n",
    "\n",
    "# ✅ 4. train-test 분리\n",
    "X_train, X_test, y_train, y_test = train_test_split(\n",
    "    X_scaled, y_encoded, test_size=0.2, random_state=42, stratify=y_encoded\n",
    ")\n",
    "\n",
    "# ✅ 5. 모델 학습 및 평가\n",
    "clf = RandomForestClassifier(n_estimators=100, random_state=42)\n",
    "clf.fit(X_train, y_train)\n",
    "y_pred = clf.predict(X_test)\n",
    "\n",
    "# ✅ 6. 결과 리포트 출력\n",
    "print(\"\\n📊 Classification Report:\\n\", classification_report(y_test, y_pred, target_names=le.classes_))\n",
    "\n",
    "# ✅ 7. 혼동 행렬 시각화\n",
    "cm = confusion_matrix(y_test, y_pred)\n",
    "plt.figure(figsize=(6, 4))\n",
    "sns.heatmap(cm, annot=True, fmt='d', xticklabels=le.classes_, yticklabels=le.classes_, cmap='Blues')\n",
    "plt.title(\"Confusion Matrix\")\n",
    "plt.xlabel(\"Predicted\")\n",
    "plt.ylabel(\"Actual\")\n",
    "plt.show()"
   ]
  },
  {
   "cell_type": "code",
   "execution_count": null,
   "id": "5adc9aeb",
   "metadata": {},
   "outputs": [],
   "source": []
  }
 ],
 "metadata": {
  "kernelspec": {
   "display_name": "base",
   "language": "python",
   "name": "python3"
  },
  "language_info": {
   "codemirror_mode": {
    "name": "ipython",
    "version": 3
   },
   "file_extension": ".py",
   "mimetype": "text/x-python",
   "name": "python",
   "nbconvert_exporter": "python",
   "pygments_lexer": "ipython3",
   "version": "3.12.3"
  }
 },
 "nbformat": 4,
 "nbformat_minor": 5
}
